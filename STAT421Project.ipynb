{
  "nbformat": 4,
  "nbformat_minor": 0,
  "metadata": {
    "colab": {
      "provenance": [],
      "authorship_tag": "ABX9TyN87pl1QoZmnpItKmp6JYct",
      "include_colab_link": true
    },
    "kernelspec": {
      "name": "python3",
      "display_name": "Python 3"
    },
    "language_info": {
      "name": "python"
    }
  },
  "cells": [
    {
      "cell_type": "markdown",
      "metadata": {
        "id": "view-in-github",
        "colab_type": "text"
      },
      "source": [
        "<a href=\"https://colab.research.google.com/github/lol-andy1/STAT421Project/blob/main/STAT421Project.ipynb\" target=\"_parent\"><img src=\"https://colab.research.google.com/assets/colab-badge.svg\" alt=\"Open In Colab\"/></a>"
      ]
    },
    {
      "cell_type": "code",
      "execution_count": null,
      "metadata": {
        "id": "_F67416H8ss_"
      },
      "outputs": [],
      "source": [
        "# Install swig only if installing gymnasium[box2d] gives an error\n",
        "!pip install swig\n",
        "!pip install gymnasium[box2d]"
      ]
    },
    {
      "cell_type": "code",
      "source": [
        "import torch\n",
        "import gymnasium as gym\n",
        "env = gym.make(\"BipedalWalker-v3\", render_mode=\"human\")"
      ],
      "metadata": {
        "id": "APnjSlOd-QOu"
      },
      "execution_count": null,
      "outputs": []
    },
    {
      "cell_type": "code",
      "source": [
        "env.reset()\n",
        "for _ in range(100):\n",
        "  # take random actions\n",
        "  o, r, d, t, i = env.step(env.action_space.sample())\n",
        "  if d:\n",
        "    env.reset()\n"
      ],
      "metadata": {
        "id": "G3MWzRLBCv3n"
      },
      "execution_count": null,
      "outputs": []
    }
  ]
}